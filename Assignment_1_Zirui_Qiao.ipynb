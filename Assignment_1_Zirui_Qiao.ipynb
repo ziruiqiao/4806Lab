{
  "nbformat": 4,
  "nbformat_minor": 0,
  "metadata": {
    "colab": {
      "provenance": [],
      "include_colab_link": true
    },
    "kernelspec": {
      "name": "python3",
      "display_name": "Python 3"
    },
    "language_info": {
      "name": "python"
    }
  },
  "cells": [
    {
      "cell_type": "markdown",
      "metadata": {
        "id": "view-in-github",
        "colab_type": "text"
      },
      "source": [
        "<a href=\"https://colab.research.google.com/github/ziruiqiao/4806Lab/blob/main/Assignment_1_Zirui_Qiao.ipynb\" target=\"_parent\"><img src=\"https://colab.research.google.com/assets/colab-badge.svg\" alt=\"Open In Colab\"/></a>"
      ]
    },
    {
      "cell_type": "code",
      "source": [
        "\"\"\"\n",
        "GENERAL NOTE: Please print out numbers (i.e., accuracies, plots, etc.) so they are visible without me having to run your colab notebook. Use python's print() function.\n",
        "\"\"\"\n",
        "\n",
        "# import everything you might need\n",
        "\n",
        "import torch\n",
        "import math\n",
        "import matplotlib.pyplot as plt\n",
        "from sklearn.linear_model import LogisticRegression, LinearRegression\n",
        "from sklearn.metrics import accuracy_score, mean_squared_error, mean_absolute_error\n",
        "import pandas as pd\n",
        "from xgboost import XGBClassifier\n",
        "import random\n",
        "from torch.utils.data import TensorDataset, DataLoader\n",
        "import numpy as np\n",
        "\n",
        "import time\n",
        "import sys\n",
        "from sklearn.preprocessing import Normalizer\n",
        "from torch import nn\n",
        "from torch.autograd import Variable\n"
      ],
      "metadata": {
        "id": "6DFH29u4vrvS"
      },
      "execution_count": null,
      "outputs": []
    },
    {
      "cell_type": "markdown",
      "source": [
        "**QUESTION 1**"
      ],
      "metadata": {
        "id": "oK3G_6TexTi7"
      }
    },
    {
      "cell_type": "code",
      "execution_count": 6,
      "metadata": {
        "id": "CDbfBJXcvWV1",
        "outputId": "9d9d9c78-121e-4bd1-a162-1cb4f5db289b",
        "colab": {
          "base_uri": "https://localhost:8080/"
        }
      },
      "outputs": [
        {
          "output_type": "stream",
          "name": "stdout",
          "text": [
            "(-26, 24, 12)\n"
          ]
        }
      ],
      "source": [
        "\"\"\"\n",
        "Q1: Calculate the gradient of the f(x, y, z) = 7x2z – 2xy3 + 5z at (-1, -2, 3). What does this vector represent?\n",
        "\n",
        "YOUR ANSWER HERE\n",
        "\"\"\"\n",
        "x = -1\n",
        "y = -2\n",
        "z = 3\n",
        "eq = 7*x^2*z - 2*x*y^3 + 5*z\n",
        "gradient_x = 14*x*z - 2*y**3\n",
        "gradient_y = -6*x*y**2\n",
        "gradient_z = 7*x**2 + 5\n",
        "print(\"(\" + str(gradient_x) + \", \" + str(gradient_y) + \", \" + str(gradient_z) + \")\")"
      ]
    },
    {
      "cell_type": "markdown",
      "source": [
        "$$\n",
        "f(x,y,z)=7x^2-2xy^3+5z\\\\\n",
        "x=-1\\quad y=-2\\quad z=3\\\\\n",
        "\\begin{equation}\n",
        "\\begin{aligned}\n",
        "\\frac{\\partial f}{\\partial x} &=14xz-2y^3+0 =14(-1)(3)-2(-2)^3 =-26\\\\\n",
        "\\frac{\\partial f}{\\partial y} &=-6xy^2 =-6(-1)(-2)^2 =24\\\\\n",
        "\\frac{\\partial f}{\\partial z} &=7x^2+5 =7(-1)^2+5=12\n",
        "\\end{aligned}\n",
        "\\end{equation}\n",
        "$$\n",
        "\n",
        "This vector means that at point (-1, -2, 3), \n",
        "  \n",
        "  1. the slope of this equation is -26 for x, \n",
        "  \n",
        "  2. the slope of this equation is 24 for y,\n",
        "  3. and slope is 12 for z. "
      ],
      "metadata": {
        "id": "aOwCLAzgqfwv"
      }
    },
    {
      "cell_type": "markdown",
      "source": [
        "**QUESTION 2**"
      ],
      "metadata": {
        "id": "7p8galnwxL_L"
      }
    },
    {
      "cell_type": "code",
      "source": [
        "\"\"\"\n",
        "Q2a: Use pandas to load train.csv, val.csv, and test.csv into three separate dataframes. \n",
        "Then, create three scatter plots of the train set with features A, B, and C on the x-axes and Y on the y-axes.\n",
        "\n",
        "YOUR CODE BELOW, IN THIS CELL\n",
        "\"\"\"\n",
        "# read data set\n",
        "url = \"https://github.com/jrgreen7/SYSC4906/releases/download/Ass1/\"\n",
        "train = pd.read_csv(url + \"train.csv\")\n",
        "test = pd.read_csv(url + \"test.csv\")\n",
        "val = pd.read_csv(url + \"val.csv\")\n",
        "\n",
        "# set the column headers\n",
        "train_df = pd.DataFrame(train, columns=['A','B','C','Y','Label'])\n",
        "test_df = pd.DataFrame(test, columns=['A','B','C','Y','Label'])\n",
        "val_df = pd.DataFrame(val, columns=['A','B','C','Y','Label'])\n",
        "\n",
        "#print(train_df.head()); print(test_df.head()); print(val_df.head())\n",
        "\n",
        "# train data\n",
        "train_set = train_df[['A','B',\"C\"]]\n",
        "train_a = train_df['A']\n",
        "train_b = train_df['B']\n",
        "train_c = train_df['C']\n",
        "train_y = train_df['Y']\n",
        "train_note = train_df['Label']\n",
        "train_note.rename('train_label')\n",
        "\n",
        "# test data\n",
        "test_set = test_df[['A','B',\"C\"]]\n",
        "test_a = test_df['A']\n",
        "test_b = test_df['B']\n",
        "test_c = test_df['C']\n",
        "test_y = test_df['Y']\n",
        "test_note = test_df['Label']\n",
        "test_note.rename('test_label')\n",
        "\n",
        "# validation data\n",
        "val_set = val_df[['A','B',\"C\"]]\n",
        "val_a = val_df['A']\n",
        "val_b = val_df['B']\n",
        "val_c = val_df['C']\n",
        "val_y = val_df['Y']\n",
        "val_note = val_df['Label']\n",
        "val_note.rename('val_label')\n",
        "\n",
        "# draw data\n",
        "plt.figure(figsize=(21,6))\n",
        "\n",
        "plt.subplot(1,3,1); plt.scatter(train_a,train_y,c=\"DarkBlue\"); plt.xlabel(\"A\"); plt.ylabel(\"Y\"); plt.title(\"Y vs A\")\n",
        "plt.subplot(1,3,2); plt.scatter(train_b,train_y,c=\"DarkBlue\"); plt.xlabel(\"B\"); plt.ylabel(\"Y\"); plt.title(\"Y vs B\")\n",
        "plt.subplot(1,3,3); plt.scatter(train_c,train_y,c=\"DarkBlue\"); plt.xlabel(\"C\"); plt.ylabel(\"Y\"); plt.title(\"Y vs C\")\n",
        "plt.show()"
      ],
      "metadata": {
        "id": "PlE8_uM_vmxb",
        "colab": {
          "base_uri": "https://localhost:8080/",
          "height": 404
        },
        "outputId": "03dd2b3e-976b-42df-ecb1-4444f448bbeb"
      },
      "execution_count": null,
      "outputs": [
        {
          "output_type": "display_data",
          "data": {
            "text/plain": [
              "<Figure size 1512x432 with 3 Axes>"
            ],
            "image/png": "[encoded data removed]"
          },
          "metadata": {
            "needs_background": "light"
          }
        }
      ]
    },
    {
      "cell_type": "code",
      "source": [
        "\"\"\"\n",
        "Q2b: If you were using A, B, and C to predict Y (i.e., using linear regression), \n",
        "how well do you think these features would perform? Do you think nonlinear functions would fit the data better? Why or why not?\n",
        "\n",
        "YOUR ANSWER HERE\n",
        "\"\"\""
      ],
      "metadata": {
        "id": "nJ4PZt77wHbT",
        "colab": {
          "base_uri": "https://localhost:8080/",
          "height": 35
        },
        "outputId": "50d74937-01b9-4e13-b718-ae2771684868"
      },
      "execution_count": null,
      "outputs": [
        {
          "output_type": "execute_result",
          "data": {
            "text/plain": [
              "'\\nQ2b: If you were using A, B, and C to predict Y (i.e., using linear regression), \\nhow well do you think these features would perform? Do you think nonlinear functions would fit the data better? Why or why not?\\n\\nYOUR ANSWER HERE\\n'"
            ],
            "application/vnd.google.colaboratory.intrinsic+json": {
              "type": "string"
            }
          },
          "metadata": {},
          "execution_count": 311
        }
      ]
    },
    {
      "cell_type": "markdown",
      "source": [
        "\n",
        "I believe that C will do the worst, for the reason that no clear relationship between Y and C can be found in C-Y graph.\n",
        "\n",
        "A will be better than C but still not that well. ALthough a trend of increase of Y can be found in A-Y Graph as A increases, it is hard to narrow the range of Y.\n",
        "\n",
        "B will be the best among the three, since it not only shows a clear trend between Y and B, but also narrow the range of Y with a given B.\n",
        "\n",
        "\n",
        "Nonlinear functions may fit the data better, but since we only have 1000 training data and lack of data will lead to overfit of non-linear data. Therefore, in this case nonlinear momdel will not fit the data better than linear model."
      ],
      "metadata": {
        "id": "6M5sqba1gtvn"
      }
    },
    {
      "cell_type": "code",
      "source": [
        "\"\"\"\n",
        "Q2c: The data is already normalized, how can you tell?\n",
        "\n",
        "YOUR CODE AND ANSWER BELOW, IN THIS CELL\n",
        "\"\"\"\n",
        "print(train_df.describe())\n",
        "print(test_df.describe())\n",
        "print(val_df.describe())"
      ],
      "metadata": {
        "id": "sIhPuIPDwkw9",
        "colab": {
          "base_uri": "https://localhost:8080/"
        },
        "outputId": "d9c0cdfd-fb4e-4be4-8fd2-5188891b1878"
      },
      "execution_count": null,
      "outputs": [
        {
          "output_type": "stream",
          "name": "stdout",
          "text": [
            "                 A            B            C            Y        Label\n",
            "count  1000.000000  1000.000000  1000.000000  1000.000000  1000.000000\n",
            "mean      0.494402     0.508317     0.487465     0.444108     3.764000\n",
            "std       0.287743     0.284111     0.292580     0.210157     2.183362\n",
            "min       0.000100     0.000000     0.000108     0.000000     0.000000\n",
            "25%       0.250918     0.275228     0.230890     0.287641     2.000000\n",
            "50%       0.485486     0.515976     0.468818     0.395947     3.000000\n",
            "75%       0.729613     0.747734     0.750513     0.589799     5.000000\n",
            "max       0.998230     0.997099     0.999805     0.984138     9.000000\n",
            "                 A            B            C            Y        Label\n",
            "count  1000.000000  1000.000000  1000.000000  1000.000000  1000.000000\n",
            "mean      0.515573     0.492781     0.510463     0.435378     3.698000\n",
            "std       0.290925     0.278679     0.289398     0.203455     2.118793\n",
            "min       0.000000     0.000188     0.000000     0.004511     0.000000\n",
            "25%       0.271713     0.245803     0.262339     0.280199     2.000000\n",
            "50%       0.520893     0.495356     0.517232     0.387585     3.000000\n",
            "75%       0.776068     0.732326     0.757322     0.579838     5.000000\n",
            "max       1.000000     1.000000     0.999635     0.994733     9.000000\n",
            "                 A            B            C            Y        Label\n",
            "count  1000.000000  1000.000000  1000.000000  1000.000000  1000.000000\n",
            "mean      0.489758     0.498689     0.513067     0.437083     3.712000\n",
            "std       0.286070     0.289915     0.287872     0.213495     2.225311\n",
            "min       0.003031     0.001121     0.001454     0.013235     0.000000\n",
            "25%       0.229974     0.245176     0.265776     0.272796     2.000000\n",
            "50%       0.484708     0.494598     0.514989     0.388959     3.000000\n",
            "75%       0.733178     0.745003     0.773341     0.591886     5.000000\n",
            "max       0.998461     0.996761     1.000000     1.000000     9.000000\n"
          ]
        }
      ]
    },
    {
      "cell_type": "markdown",
      "source": [
        "We can see that the maximum and minimum of A,B,C,Y for all datasets are bounded in range [0, 1]. The data is already normalized"
      ],
      "metadata": {
        "id": "ihowOLlLiExI"
      }
    },
    {
      "cell_type": "code",
      "source": [
        "\"\"\"\n",
        "Q2d: For each of the three input features, compute its square-root to create 3 additional features. \n",
        "Repeat for squaring the feature values to create another 3 features.\n",
        "You now have 9 total input features: A, B, C, sqrt(A), sqrt(B), sqrt(C), A2, B2, C2. \n",
        "Do this for all three data splits (train, val, and test). You can think of these as polynomial kernels used in SVMs.\n",
        "\n",
        "YOUR CODE BELOW, IN THIS CELL\n",
        "\"\"\"\n",
        "# train data set square and sqrt\n",
        "train_a_sqrt = train_a**(1/2)\n",
        "train_b_sqrt = train_b**(1/2)\n",
        "train_c_sqrt = train_c**(1/2)\n",
        "train_a_square = train_a**2\n",
        "train_b_square = train_b**2\n",
        "train_c_square = train_c**2\n",
        "\n",
        "train_set = train_set.assign(\n",
        "    A_sqrt=train_a_sqrt,\n",
        "    B_sqrt=train_b_sqrt,\n",
        "    C_sqrt=train_c_sqrt,\n",
        "    A_square=train_a_square,\n",
        "    B_square=train_b_square,\n",
        "    C_square=train_c_square\n",
        ")\n",
        "# test data set square and sqrt\n",
        "test_a_sqrt = test_a**(1/2)\n",
        "test_b_sqrt = test_b**(1/2)\n",
        "test_c_sqrt = test_c**(1/2)\n",
        "test_a_square = test_a**2\n",
        "test_b_square = test_b**2\n",
        "test_c_square = test_c**2\n",
        "\n",
        "test_set = test_set.assign(\n",
        "    A_sqrt=test_a_sqrt,\n",
        "    B_sqrt=test_b_sqrt,\n",
        "    C_sqrt=test_c_sqrt,\n",
        "    A_square=test_a_square,\n",
        "    B_square=test_b_square,\n",
        "    C_square=test_c_square\n",
        ")\n",
        "\n",
        "# val data set square and sqrt\n",
        "val_a_sqrt = val_a**(1/2)\n",
        "val_b_sqrt = val_b**(1/2)\n",
        "val_c_sqrt = val_c**(1/2)\n",
        "val_a_square = val_a**2\n",
        "val_b_square = val_b**2\n",
        "val_c_square = val_c**2\n",
        "\n",
        "val_set = val_set.assign(\n",
        "    A_sqrt=val_a_sqrt,\n",
        "    B_sqrt=val_b_sqrt,\n",
        "    C_sqrt=val_c_sqrt,\n",
        "    A_square=val_a_square,\n",
        "    B_square=val_b_square,\n",
        "    C_square=val_c_square\n",
        ")\n",
        "\n",
        "train_set_3 = train_set[['A','B','C']]\n",
        "val_set_3 = val_set[['A','B','C']]\n",
        "test_set_3 = test_set[['A','B','C']]"
      ],
      "metadata": {
        "id": "-jJ1cxmvwu90"
      },
      "execution_count": null,
      "outputs": []
    },
    {
      "cell_type": "markdown",
      "source": [
        "**QUESTION 3**"
      ],
      "metadata": {
        "id": "lxXg_ih4xdDU"
      }
    },
    {
      "cell_type": "code",
      "source": [
        "\"\"\"\n",
        "Q3a: Train a linear regression model on the train set using only the 3 original input features.\n",
        "\n",
        "YOUR CODE BELOW, IN THIS CELL\n",
        "\"\"\"\n",
        "model_3 = LinearRegression().fit(train_set_3,train_y)"
      ],
      "metadata": {
        "id": "dhri8_3yxfFz"
      },
      "execution_count": null,
      "outputs": []
    },
    {
      "cell_type": "code",
      "source": [
        "\"\"\"\n",
        "Q3b: What are the mean absolute errors of the train set, val set, and test sets using this model? Did the model overfit the train set?\n",
        "\n",
        "YOUR CODE AND ANSWER BELOW, IN THIS CELL\n",
        "\"\"\"\n",
        "def match_model(data_name, input, output, model):\n",
        "  # r_sq = model.score(input, output)\n",
        "  # print(data_name, \" coefficient of determination:\", str(r_sq))\n",
        "  predict = model.predict(input)\n",
        "  mse = mean_squared_error(output,predict)\n",
        "  mae = mean_absolute_error(output,predict)\n",
        "  print(f\"{data_name} mean absolute errors:        {mae}\")\n",
        "  print(f\"{data_name} mean square errors:          {mse}\")\n",
        "  return mae\n",
        "\n",
        "# train data\n",
        "match_model(\"train data\", train_set_3, train_y, model_3)\n",
        "# validation\n",
        "match_model(\"val data\", val_set_3, val_y, model_3)\n",
        "# test\n",
        "match_model(\"test data\", test_set_3, test_y, model_3)"
      ],
      "metadata": {
        "id": "Xbqp56oCxl2s",
        "colab": {
          "base_uri": "https://localhost:8080/"
        },
        "outputId": "93cd1623-2ca1-4ffa-f25f-c1b9211b6f49"
      },
      "execution_count": null,
      "outputs": [
        {
          "output_type": "stream",
          "name": "stdout",
          "text": [
            "train data mean absolute errors:        0.04297622772687733\n",
            "train data mean square errors:          0.0026054727436227525\n",
            "val data mean absolute errors:        0.042993924495539175\n",
            "val data mean square errors:          0.0026322736221271424\n",
            "test data mean absolute errors:        0.04199595732420805\n",
            "test data mean square errors:          0.002560950200602679\n"
          ]
        },
        {
          "output_type": "execute_result",
          "data": {
            "text/plain": [
              "0.04199595732420805"
            ]
          },
          "metadata": {},
          "execution_count": 315
        }
      ]
    },
    {
      "cell_type": "markdown",
      "source": [
        "The model did not overfit the train set since the mean absolute errors for both validation dataset and test dataset are as small as test dataset "
      ],
      "metadata": {
        "id": "bXQ7eF24J7_e"
      }
    },
    {
      "cell_type": "code",
      "source": [
        "\"\"\"\n",
        "Q3c: What are the values of the 4 learned parameters (3 weights and 1 bias)? Do these values make sense given your scatter plots in Q2a?\n",
        "\n",
        "YOUR CODE AND ANSWER BELOW, IN THIS CELL\n",
        "\"\"\"\n",
        "print(f\"bias: {model_3.intercept_}\")\n",
        "print(f\"weights: {model_3.coef_}\")"
      ],
      "metadata": {
        "id": "0nQYH-U1xxZr",
        "colab": {
          "base_uri": "https://localhost:8080/"
        },
        "outputId": "a28be453-a2c2-40dc-f52e-60700afe1248"
      },
      "execution_count": null,
      "outputs": [
        {
          "output_type": "stream",
          "name": "stdout",
          "text": [
            "bias: 0.0030530675285197484\n",
            "weights: [ 0.26851499  0.66435995 -0.06032162]\n"
          ]
        }
      ]
    },
    {
      "cell_type": "code",
      "source": [
        "\"\"\"\n",
        "Q3d: Train another linear regression model using all 9 input features.\n",
        "\n",
        "YOUR CODE BELOW, IN THIS CELL\n",
        "\"\"\"\n",
        "model_9 = LinearRegression().fit(train_set,train_y)"
      ],
      "metadata": {
        "id": "RFCzKCFqxz-7"
      },
      "execution_count": null,
      "outputs": []
    },
    {
      "cell_type": "code",
      "source": [
        "\"\"\"\n",
        "Q3e: What are the mean absolute errors of each dataset, using this new model?\n",
        "\n",
        "YOUR CODE BELOW, IN THIS CELL\n",
        "\"\"\"\n",
        "# train data\n",
        "match_model(\"train data\", train_set, train_y, model_9)\n",
        "# validation\n",
        "match_model(\"val data\", val_set, val_y, model_9)\n",
        "# test\n",
        "match_model(\"test data\", test_set, test_y, model_9)"
      ],
      "metadata": {
        "id": "qBF4i2JFx4Dj",
        "colab": {
          "base_uri": "https://localhost:8080/"
        },
        "outputId": "91a4b526-6e3b-4007-ede3-3c0d7be0b8b4"
      },
      "execution_count": null,
      "outputs": [
        {
          "output_type": "stream",
          "name": "stdout",
          "text": [
            "train data mean absolute errors:        2.6489755248107204e-05\n",
            "train data mean square errors:          5.600555484958585e-09\n",
            "val data mean absolute errors:        2.2842568580002835e-05\n",
            "val data mean square errors:          9.791139397471014e-10\n",
            "test data mean absolute errors:        2.606980306402873e-05\n",
            "test data mean square errors:          1.551195777772603e-08\n"
          ]
        },
        {
          "output_type": "execute_result",
          "data": {
            "text/plain": [
              "2.606980306402873e-05"
            ]
          },
          "metadata": {},
          "execution_count": 318
        }
      ]
    },
    {
      "cell_type": "code",
      "source": [
        "\"\"\"\n",
        "Q3f: How many learned parameters are there for this model, and what are their values?\n",
        "\n",
        "YOUR CODE AND ANSWER BELOW, IN THIS CELL\n",
        "\"\"\"\n",
        "print(f\"bias: {model_9.intercept_}\")\n",
        "print(f\"weights: {model_9.coef_}\")"
      ],
      "metadata": {
        "id": "ylWEBJTcx8Bk",
        "colab": {
          "base_uri": "https://localhost:8080/"
        },
        "outputId": "86984754-949c-48cc-8547-dd3913203088"
      },
      "execution_count": null,
      "outputs": [
        {
          "output_type": "stream",
          "name": "stdout",
          "text": [
            "bias: 0.03170073560858788\n",
            "weights: [ 3.18658118e-03  4.12904461e-04 -6.66706794e-02  3.29369858e-01\n",
            "  5.77037044e-05  1.93867238e-04 -1.14337648e-03  6.63574154e-01\n",
            "  1.43711935e-04]\n"
          ]
        }
      ]
    },
    {
      "cell_type": "code",
      "source": [
        "\"\"\"\n",
        "Q3g: Which model performs better? How can you explain the difference in performance?\n",
        "\n",
        "YOUR ANSWER HERE\n",
        "\"\"\""
      ],
      "metadata": {
        "id": "rAT4ED6LyADA",
        "colab": {
          "base_uri": "https://localhost:8080/",
          "height": 35
        },
        "outputId": "f921d76b-5ea4-43a3-ac03-acb5e669e4de"
      },
      "execution_count": null,
      "outputs": [
        {
          "output_type": "execute_result",
          "data": {
            "text/plain": [
              "'\\nQ3g: Which model performs better? How can you explain the difference in performance?\\n\\nYOUR ANSWER HERE\\n'"
            ],
            "application/vnd.google.colaboratory.intrinsic+json": {
              "type": "string"
            }
          },
          "metadata": {},
          "execution_count": 320
        }
      ]
    },
    {
      "cell_type": "markdown",
      "source": [
        "The model with 9 inputs performs better.\n",
        "\n",
        "model_3: model with 3 inputs\n",
        "\n",
        "model_9: model with 9 inputs\n",
        "\n",
        "Explaination:\n",
        "\n",
        "model_3 is calculating the data in a 4-dimensional space, while model_9 is calculating in 10-dimensional space. Given more features make the model more sensitive to original inputs and thus increases model accuracy."
      ],
      "metadata": {
        "id": "I25nf99lO4Yz"
      }
    },
    {
      "cell_type": "markdown",
      "source": [
        "**QUESTION 4**"
      ],
      "metadata": {
        "id": "c1VYI6iayJS8"
      }
    },
    {
      "cell_type": "code",
      "source": [
        "\"\"\"\n",
        "Q4a: Use scikit-learn to train a logistic regression model on the train set using only the 3 original features. Again, just use the default hyper-parameters.\n",
        "\n",
        "YOUR CODE BELOW, IN THIS CELL\n",
        "\"\"\"\n",
        "logistic_model_3 = LogisticRegression(solver='liblinear', random_state=0)\n",
        "logistic_model_3.fit(train_set_3, train_note)\n",
        "train_note.unique()"
      ],
      "metadata": {
        "id": "ZNpJivbuyLND",
        "colab": {
          "base_uri": "https://localhost:8080/"
        },
        "outputId": "4edceef4-3e89-4a3e-e9f1-855343cc4ace"
      },
      "execution_count": null,
      "outputs": [
        {
          "output_type": "execute_result",
          "data": {
            "text/plain": [
              "array([5, 3, 2, 4, 7, 1, 0, 6, 8, 9])"
            ]
          },
          "metadata": {},
          "execution_count": 321
        }
      ]
    },
    {
      "cell_type": "code",
      "source": [
        "\"\"\"\n",
        "Q4b: What are the overall accuracies of the train, val, and test sets? Use scikit-learn’s accuracy_score metric.\n",
        "\n",
        "YOUR CODE BELOW, IN THIS CELL\n",
        "\"\"\"\n",
        "def match_logistic(data_name, input, output, model):\n",
        "  # r_sq = model.score(input, output)\n",
        "  # print(data_name, \" Coefficient of determination:\", str(r_sq))\n",
        "  predict = model.predict(input)\n",
        "  mae = mean_absolute_error(output,predict)\n",
        "  print(data_name, \" mean absolute errors:\", str(mae))\n",
        "  a_s = accuracy_score(output,predict)\n",
        "  print(data_name, \" Accuracy:            \", str(a_s))\n",
        "  return mae\n",
        "\n",
        "match_logistic(\"Train Data\", train_set_3, train_note, logistic_model_3)\n",
        "match_logistic(\"Validation Data\", val_set_3, val_note, logistic_model_3)\n",
        "mae = match_logistic(\"Test Data\", test_set_3, test_note, logistic_model_3)"
      ],
      "metadata": {
        "id": "l2aYUirgyRGk",
        "colab": {
          "base_uri": "https://localhost:8080/"
        },
        "outputId": "3a957482-306d-46e1-a3ad-a7f9e3caeaee"
      },
      "execution_count": null,
      "outputs": [
        {
          "output_type": "stream",
          "name": "stdout",
          "text": [
            "Train Data  mean absolute errors: 0.88\n",
            "Train Data  Accuracy:             0.406\n",
            "Validation Data  mean absolute errors: 0.926\n",
            "Validation Data  Accuracy:             0.351\n",
            "Test Data  mean absolute errors: 0.945\n",
            "Test Data  Accuracy:             0.359\n"
          ]
        }
      ]
    },
    {
      "cell_type": "code",
      "source": [
        "\"\"\"\n",
        "Q4c: Train another logistic regression model on the train set using all 9 features. If it doesn’t converge, set max_iter to 5,000.\n",
        "\n",
        "YOUR CODE BELOW, IN THIS CELL\n",
        "\"\"\"\n",
        "logistic_model_9 = LogisticRegression(solver='liblinear', random_state=0)\n",
        "logistic_model_9.fit(train_set, train_note)"
      ],
      "metadata": {
        "id": "NJw0iqWvyUsj",
        "colab": {
          "base_uri": "https://localhost:8080/"
        },
        "outputId": "b1421cdc-12c4-4511-ba99-f60d0fca6447"
      },
      "execution_count": null,
      "outputs": [
        {
          "output_type": "execute_result",
          "data": {
            "text/plain": [
              "LogisticRegression(random_state=0, solver='liblinear')"
            ]
          },
          "metadata": {},
          "execution_count": 323
        }
      ]
    },
    {
      "cell_type": "code",
      "source": [
        "\"\"\"\n",
        "Q4d: Repeat b, but with your new logistic regression model.\n",
        "\n",
        "YOUR CODE BELOW, IN THIS CELL\n",
        "\"\"\"\n",
        "match_logistic(\"Train Data\", train_set, train_note, logistic_model_9)\n",
        "match_logistic(\"Validation Data\", val_set, val_note, logistic_model_9)\n",
        "match_logistic(\"Test Data\", test_set, test_note, logistic_model_9)"
      ],
      "metadata": {
        "id": "V1TDc_aKyYBU",
        "colab": {
          "base_uri": "https://localhost:8080/"
        },
        "outputId": "d2c04103-4bad-496a-a509-105dc2a09f04"
      },
      "execution_count": null,
      "outputs": [
        {
          "output_type": "stream",
          "name": "stdout",
          "text": [
            "Train Data  mean absolute errors: 0.685\n",
            "Train Data  Accuracy:             0.469\n",
            "Validation Data  mean absolute errors: 0.788\n",
            "Validation Data  Accuracy:             0.389\n",
            "Test Data  mean absolute errors: 0.763\n",
            "Test Data  Accuracy:             0.417\n"
          ]
        },
        {
          "output_type": "execute_result",
          "data": {
            "text/plain": [
              "0.763"
            ]
          },
          "metadata": {},
          "execution_count": 324
        }
      ]
    },
    {
      "cell_type": "code",
      "source": [
        "\"\"\"\n",
        "Q4e: XGBoost is pre-installed on Google Colab. \n",
        "One hyper-parameter is the depth of the tree (called max_depth). \n",
        "Find the optimal value of max_depth, all other hyper-parameters can be ignored for this question.\n",
        "That is, your model should look like: model = XGBClassifier(max_depth=L).fit(X,y).\n",
        "\n",
        "Hint: the test set should not be used to search for hyper-parameters. \n",
        "Train these models using only the 3 original features.\n",
        "\n",
        "YOUR CODE BELOW, IN THIS CELL\n",
        "\"\"\"\n",
        "min = 1\n",
        "index = 0\n",
        "for i in range(1, 20):\n",
        "  model = XGBClassifier(max_depth=i).fit(train_set_3,train_note)\n",
        "  mae = match_logistic(\"Validation \"+str(i)+\" \", val_set_3, val_note, model)\n",
        "  if min > mae:\n",
        "    min = mae\n",
        "    index = i\n",
        "print(f\"\\nmin mean absolute errors:{min}\")\n",
        "print(f\"index:{index}\")"
      ],
      "metadata": {
        "id": "fLo2-iTsyccG",
        "colab": {
          "base_uri": "https://localhost:8080/"
        },
        "outputId": "f7bd1f98-656b-4ee7-c5bd-f45b8c4ff680"
      },
      "execution_count": null,
      "outputs": [
        {
          "output_type": "stream",
          "name": "stdout",
          "text": [
            "Validation 1   mean absolute errors: 0.491\n",
            "Validation 1   Accuracy:             0.562\n",
            "Validation 2   mean absolute errors: 0.317\n",
            "Validation 2   Accuracy:             0.702\n",
            "Validation 3   mean absolute errors: 0.22\n",
            "Validation 3   Accuracy:             0.796\n",
            "Validation 4   mean absolute errors: 0.193\n",
            "Validation 4   Accuracy:             0.823\n",
            "Validation 5   mean absolute errors: 0.199\n",
            "Validation 5   Accuracy:             0.817\n",
            "Validation 6   mean absolute errors: 0.19\n",
            "Validation 6   Accuracy:             0.826\n",
            "Validation 7   mean absolute errors: 0.189\n",
            "Validation 7   Accuracy:             0.827\n",
            "Validation 8   mean absolute errors: 0.184\n",
            "Validation 8   Accuracy:             0.832\n",
            "Validation 9   mean absolute errors: 0.195\n",
            "Validation 9   Accuracy:             0.821\n",
            "Validation 10   mean absolute errors: 0.183\n",
            "Validation 10   Accuracy:             0.833\n",
            "Validation 11   mean absolute errors: 0.183\n",
            "Validation 11   Accuracy:             0.833\n",
            "Validation 12   mean absolute errors: 0.185\n",
            "Validation 12   Accuracy:             0.831\n",
            "Validation 13   mean absolute errors: 0.188\n",
            "Validation 13   Accuracy:             0.828\n",
            "Validation 14   mean absolute errors: 0.189\n",
            "Validation 14   Accuracy:             0.827\n",
            "Validation 15   mean absolute errors: 0.193\n",
            "Validation 15   Accuracy:             0.823\n",
            "Validation 16   mean absolute errors: 0.191\n",
            "Validation 16   Accuracy:             0.825\n",
            "Validation 17   mean absolute errors: 0.187\n",
            "Validation 17   Accuracy:             0.829\n",
            "Validation 18   mean absolute errors: 0.189\n",
            "Validation 18   Accuracy:             0.827\n",
            "Validation 19   mean absolute errors: 0.184\n",
            "Validation 19   Accuracy:             0.832\n",
            "\n",
            "min mean absolute errors:0.183\n",
            "index:10\n"
          ]
        }
      ]
    },
    {
      "cell_type": "code",
      "source": [
        "\"\"\"\n",
        "Q4f: Repeat Step b, but with your new XGBoost model (with the max_depth chosen from e).\n",
        "\n",
        "YOUR CODE BELOW, IN THIS CELL\n",
        "\"\"\"\n",
        "XG_model = XGBClassifier(max_depth=10).fit(train_set_3,train_note)\n",
        "match_logistic(\"Validation\", val_set_3, val_note, XG_model)\n",
        "mae = match_logistic(\"Test\", test_set_3, test_note, XG_model)"
      ],
      "metadata": {
        "id": "WvqNZeBpyjjs",
        "colab": {
          "base_uri": "https://localhost:8080/"
        },
        "outputId": "f14875b5-f1fd-41d4-ac3a-6ba5fa0da1e0"
      },
      "execution_count": null,
      "outputs": [
        {
          "output_type": "stream",
          "name": "stdout",
          "text": [
            "Validation  mean absolute errors: 0.183\n",
            "Validation  Accuracy:             0.833\n",
            "Test  mean absolute errors: 0.166\n",
            "Test  Accuracy:             0.842\n"
          ]
        }
      ]
    },
    {
      "cell_type": "code",
      "source": [
        "\"\"\"\n",
        "Q4g: Of your 3 models—two logistic regression models and one XGBoost model—which performs best on the test set? \n",
        "Why do you think this is the case?\n",
        "\n",
        "YOUR ANSWER HERE\n",
        "\"\"\""
      ],
      "metadata": {
        "id": "0a9vbr2Jymq0",
        "colab": {
          "base_uri": "https://localhost:8080/",
          "height": 35
        },
        "outputId": "3f4a73e4-7789-4e05-fe79-450f910f67f8"
      },
      "execution_count": null,
      "outputs": [
        {
          "output_type": "execute_result",
          "data": {
            "text/plain": [
              "'\\nQ4g: Of your 3 models—two logistic regression models and one XGBoost model—which performs best on the test set? \\nWhy do you think this is the case?\\n\\nYOUR ANSWER HERE\\n'"
            ],
            "application/vnd.google.colaboratory.intrinsic+json": {
              "type": "string"
            }
          },
          "metadata": {},
          "execution_count": 327
        }
      ]
    },
    {
      "cell_type": "markdown",
      "source": [
        "Among the three, XGBoost model performs the best. XGBoost"
      ],
      "metadata": {
        "id": "_EDwqurPt1Dh"
      }
    },
    {
      "cell_type": "markdown",
      "source": [
        "**QUESTION 5**"
      ],
      "metadata": {
        "id": "oKzItLTcytY0"
      }
    },
    {
      "cell_type": "code",
      "source": [
        "\"\"\"\n",
        "Q5a: Using all 9 input features, we want to train a linear model (i.e., torch.nn.Linear) to predict the class label.\n",
        "This is a multi-class classification problem, which of the following loss functions, available in PyTorch, \n",
        "best suits our task? Explain briefly. \n",
        "torch.nn.CrossEntropyLoss()\n",
        "torch.nn.MSELoss()\n",
        "torch.nn.BCELoss()\n",
        "\n",
        "YOUR ANSWER HERE\n",
        "\"\"\""
      ],
      "metadata": {
        "id": "8dQQk_Layvgk",
        "colab": {
          "base_uri": "https://localhost:8080/",
          "height": 52
        },
        "outputId": "af6c152f-5332-4ba7-f8b6-9837f6dcefb0"
      },
      "execution_count": null,
      "outputs": [
        {
          "output_type": "execute_result",
          "data": {
            "text/plain": [
              "'\\nQ5a: Using all 9 input features, we want to train a linear model (i.e., torch.nn.Linear) to predict the class label.\\nThis is a multi-class classification problem, which of the following loss functions, available in PyTorch, \\nbest suits our task? Explain briefly. \\ntorch.nn.CrossEntropyLoss()\\ntorch.nn.MSELoss()\\ntorch.nn.BCELoss()\\n\\nYOUR ANSWER HERE\\n'"
            ],
            "application/vnd.google.colaboratory.intrinsic+json": {
              "type": "string"
            }
          },
          "metadata": {},
          "execution_count": 328
        }
      ]
    },
    {
      "cell_type": "markdown",
      "source": [
        "torch.nn.CrossEntropyLoss() is the best choice.\n",
        "\n",
        "MSELoss: Mean Square Loss\n",
        "BCELoss: Binary Cross Entropy\n",
        "\n",
        "The goodness of a split is estimated by entropy. Therefore, for a classification problem, MSELoss is not a good choice. It is designed for regression problem.\n",
        "\n",
        "There are 9 inputs in total, which is a multi-class classification problem. Therefore, Binary Cross Entropy is nor a good choice. It si designed for binomial problem.\n",
        "\n",
        "Cross Entroy Loss is designed for multi-class classification.\n",
        "\n",
        "Therefore, CrossEntropyLoss is the best choice."
      ],
      "metadata": {
        "id": "akXpje3IZgOw"
      }
    },
    {
      "cell_type": "code",
      "source": [
        "\"\"\"\n",
        "Q5b: Your model will output 10 numbers, one for each class.\n",
        "These are called logits. Do you need to compute the softmax across these 10 logits \n",
        "before applying your loss function (from a), or does the loss function compute the softmax for you?\n",
        "\n",
        "YOUR ANSWER HERE\n",
        "\"\"\""
      ],
      "metadata": {
        "id": "te2Fvb5Ky1Xk",
        "colab": {
          "base_uri": "https://localhost:8080/",
          "height": 52
        },
        "outputId": "2fafe8c5-52ef-4105-d097-a19e1a4b2f6c"
      },
      "execution_count": null,
      "outputs": [
        {
          "output_type": "execute_result",
          "data": {
            "text/plain": [
              "'\\nQ5b: Your model will output 10 numbers, one for each class.\\nThese are called logits. Do you need to compute the softmax across these 10 logits \\nbefore applying your loss function (from a), or does the loss function compute the softmax for you?\\n\\nYOUR ANSWER HERE\\n'"
            ],
            "application/vnd.google.colaboratory.intrinsic+json": {
              "type": "string"
            }
          },
          "metadata": {},
          "execution_count": 329
        }
      ]
    },
    {
      "cell_type": "markdown",
      "source": [
        "According to https://pytorch.org/docs/stable/generated/torch.nn.CrossEntropyLoss.html#torch.nn.CrossEntropyLoss\n",
        "\n",
        "If we are calculating loss of target with class indices, the softmax is embedded in the function.\n",
        "\n",
        "If we are calculating loss of target with class probabilities, we have to specifies the softmax by ourselves."
      ],
      "metadata": {
        "id": "vt0TOpYbjZnK"
      }
    },
    {
      "cell_type": "code",
      "source": [
        "\"\"\"\n",
        "Q5c: Using the loss function from a, train a linear model using PyTorch and stochastic gradient descent (SGD).\n",
        "Use a batch size of 1, a learning rate of 0.3 and train for 200 epochs. \n",
        "You can update your model weights “manually” or use an optimizer.\n",
        "\n",
        "YOUR CODE BELOW, IN THIS CELL\n",
        "\"\"\"\n",
        "\n",
        "loss = nn.CrossEntropyLoss()\n",
        "# build dataset function\n",
        "def build_dataset(df, input_names, outputs, num_datapoints=1000):\n",
        "  all_feature_vectors = []\n",
        "  for idx in range(num_datapoints):\n",
        "    feature_vector = []\n",
        "    for input_name in input_names:\n",
        "      feature = df[input_name][idx]\n",
        "      feature_vector.append(feature)\n",
        "\n",
        "    feature = outputs[idx]\n",
        "    feature_vector.append(feature)\n",
        "    \n",
        "    feature_vector = torch.Tensor(feature_vector).unsqueeze(dim=0)\n",
        "    all_feature_vectors.append(feature_vector)\n",
        "\n",
        "  all_feature_vectors = torch.cat(all_feature_vectors, dim=0)  # (num_datapoints, num_features)\n",
        "  print(f'Chosen inputs: {input_names}')\n",
        "  print(f'Chosen outputs: {outputs.name}')\n",
        "  print(f'All data shape: {all_feature_vectors.shape}')\n",
        "\n",
        "  inputs = all_feature_vectors[:,:len(input_names)]  # (num_train, num_inputs)\n",
        "  labels = all_feature_vectors[:,len(input_names):]  # (num_train, num_outputs)\n",
        "\n",
        "  print(f'Train inputs shape: {inputs.shape}, train labels shape: {labels.shape}\\n')\n",
        "  dataset = TensorDataset(inputs, labels)\n",
        "  return dataset\n",
        "\n",
        "# transform dataset from dataframe to tensor\n",
        "train_torch_set = build_dataset(train_set, \n",
        "          input_names=['A', 'B', 'C', \n",
        "          'A_sqrt', 'B_sqrt', 'C_sqrt', \n",
        "          'A_square', 'B_square', 'C_square'],\n",
        "          outputs=train_note)\n",
        "\n",
        "test_torch_set = build_dataset(test_set, \n",
        "          input_names=['A', 'B', 'C', \n",
        "          'A_sqrt', 'B_sqrt', 'C_sqrt', \n",
        "          'A_square', 'B_square', 'C_square'],\n",
        "          outputs=test_note)\n",
        "\n",
        "val_torch_set = build_dataset(val_set, \n",
        "          input_names=['A', 'B', 'C', \n",
        "          'A_sqrt', 'B_sqrt', 'C_sqrt', \n",
        "          'A_square', 'B_square', 'C_square'],\n",
        "          outputs=val_note)\n",
        "\n",
        "train_loader = DataLoader(train_torch_set, batch_size=1, shuffle=True)\n",
        "test_loader = DataLoader(test_torch_set, batch_size=1, shuffle=False)\n",
        "val_loader = DataLoader(val_torch_set, batch_size=1, shuffle=False)"
      ],
      "metadata": {
        "id": "Q11HwYosy5wM",
        "colab": {
          "base_uri": "https://localhost:8080/"
        },
        "outputId": "2cc5af8e-7df8-47fe-c968-25fc2d7a82bb"
      },
      "execution_count": null,
      "outputs": [
        {
          "output_type": "stream",
          "name": "stdout",
          "text": [
            "Chosen inputs: ['A', 'B', 'C', 'A_sqrt', 'B_sqrt', 'C_sqrt', 'A_square', 'B_square', 'C_square']\n",
            "Chosen outputs: Label\n",
            "All data shape: torch.Size([1000, 10])\n",
            "Train inputs shape: torch.Size([1000, 9]), train labels shape: torch.Size([1000, 1])\n",
            "\n",
            "Chosen inputs: ['A', 'B', 'C', 'A_sqrt', 'B_sqrt', 'C_sqrt', 'A_square', 'B_square', 'C_square']\n",
            "Chosen outputs: Label\n",
            "All data shape: torch.Size([1000, 10])\n",
            "Train inputs shape: torch.Size([1000, 9]), train labels shape: torch.Size([1000, 1])\n",
            "\n",
            "Chosen inputs: ['A', 'B', 'C', 'A_sqrt', 'B_sqrt', 'C_sqrt', 'A_square', 'B_square', 'C_square']\n",
            "Chosen outputs: Label\n",
            "All data shape: torch.Size([1000, 10])\n",
            "Train inputs shape: torch.Size([1000, 9]), train labels shape: torch.Size([1000, 1])\n",
            "\n"
          ]
        }
      ]
    },
    {
      "cell_type": "code",
      "source": [
        "from tqdm import tqdm\n",
        "\n",
        "def train_linear_model(num_epochs, learning_rate, prt=True):\n",
        "  model = torch.nn.Linear(9, 10)\n",
        "  opt = torch.optim.SGD(model.parameters(), learning_rate)\n",
        "  criterion = torch.nn.CrossEntropyLoss()\n",
        "\n",
        "  for epoch in tqdm(range(num_epochs), total=num_epochs, position=0, file=sys.stdout, desc=\"Task Progress\"):\n",
        "    train_losses = []\n",
        "    for batch in train_loader:\n",
        "      # print(batch)\n",
        "      batch_input = batch[0]  # (batch_size, num_input_features)\n",
        "      batch_output = batch[1]  # (batch_size, num_outputs_labels)\n",
        "      out = model(batch_input)  # (batch_size, num_outputs_labels)\n",
        "      after_calc = torch.softmax(out, dim=1)\n",
        "      # print(soft)\n",
        "      loss = criterion(after_calc,torch.Tensor([batch_output.item()]).long())\n",
        "      loss.backward()  # calculate gradients of every model parameter\n",
        "      opt.step()  # use our optimizer to update model parameters\n",
        "      opt.zero_grad()  # set gradients back to zero\n",
        "\n",
        "      train_losses.append(float(loss)/1)\n",
        "\n",
        "    if prt and (epoch+1) % 10 == 0:\n",
        "        train_loss_mean = torch.Tensor(train_losses).mean().item()\n",
        "        tqdm.write(f'Epoch: {epoch+1},  train loss: {train_loss_mean},  test loss: {loss.item()}')\n",
        "\n",
        "  print('\\n')\n",
        "\n",
        "  weight, bias = list(model.parameters())\n",
        "  tqdm.write(\"model trained successfully\")\n",
        "\n",
        "  return model\n",
        "\n",
        "model = train_linear_model(200, 0.3)"
      ],
      "metadata": {
        "colab": {
          "base_uri": "https://localhost:8080/"
        },
        "id": "4tQl2AiUok-x",
        "outputId": "c4effbdc-1a71-4b08-8113-8eeb6244ecb2"
      },
      "execution_count": null,
      "outputs": [
        {
          "output_type": "stream",
          "name": "stdout",
          "text": [
            "Epoch: 10,  train loss: 2.042832612991333,  test loss: 1.6080375909805298\n",
            "Epoch: 20,  train loss: 1.9906213283538818,  test loss: 2.265578031539917\n",
            "Epoch: 30,  train loss: 1.9688923358917236,  test loss: 2.2020516395568848\n",
            "Epoch: 40,  train loss: 1.9576890468597412,  test loss: 2.4611499309539795\n",
            "Epoch: 50,  train loss: 1.9485341310501099,  test loss: 2.4607856273651123\n",
            "Epoch: 60,  train loss: 1.9418822526931763,  test loss: 2.4256811141967773\n",
            "Epoch: 70,  train loss: 1.935801386833191,  test loss: 1.4720582962036133\n",
            "Epoch: 80,  train loss: 1.931698203086853,  test loss: 1.8856911659240723\n",
            "Epoch: 90,  train loss: 1.9282492399215698,  test loss: 1.5602807998657227\n",
            "Epoch: 100,  train loss: 1.9244059324264526,  test loss: 1.7311350107192993\n",
            "Epoch: 110,  train loss: 1.9215973615646362,  test loss: 2.1406452655792236\n",
            "Epoch: 120,  train loss: 1.9186716079711914,  test loss: 1.471973180770874\n",
            "Epoch: 130,  train loss: 1.915785312652588,  test loss: 1.5318188667297363\n",
            "Epoch: 140,  train loss: 1.9130491018295288,  test loss: 1.4719666242599487\n",
            "Epoch: 150,  train loss: 1.913318157196045,  test loss: 2.4611501693725586\n",
            "Epoch: 160,  train loss: 1.9125515222549438,  test loss: 2.4287095069885254\n",
            "Epoch: 170,  train loss: 1.910158634185791,  test loss: 1.4699327945709229\n",
            "Epoch: 180,  train loss: 1.9082608222961426,  test loss: 1.4866806268692017\n",
            "Epoch: 190,  train loss: 1.9072636365890503,  test loss: 1.4625824689865112\n",
            "Epoch: 200,  train loss: 1.9064730405807495,  test loss: 1.4863687753677368\n",
            "Task Progress: 100%|██████████| 200/200 [01:30<00:00,  2.20it/s]\n",
            "\n",
            "\n",
            "model trained successfully\n"
          ]
        }
      ]
    },
    {
      "cell_type": "code",
      "source": [
        "\"\"\"\n",
        "Q5d: Use the trained model to make predictions on the val and test sets. \n",
        "Calculate the overall accuracy of both sets.\n",
        "\n",
        "YOUR CODE BELOW, IN THIS CELL\n",
        "\"\"\"\n",
        "def get_accuracy(model, dataloader, name):\n",
        "  correct, total = 0, 0\n",
        "  for batch in dataloader:\n",
        "    # set input, output\n",
        "    batch_input = batch[0]\n",
        "    batch_output = batch[1]\n",
        "    # calculate prediction\n",
        "    out = model(batch_input)\n",
        "    after_calc = torch.softmax(out, dim=1)\n",
        "    pred = after_calc.max(1, keepdim=True)[1]\n",
        "    # compare and record\n",
        "    correct += pred.eq(batch_output)\n",
        "    total += 1\n",
        "  accuracy = correct / total\n",
        "  print(f'{name} accuracy: {accuracy.item()}')\n",
        "  #return accuracy\n",
        "\n",
        "get_accuracy(model, val_loader, \"validation\")\n",
        "get_accuracy(model, test_loader, \"test\")"
      ],
      "metadata": {
        "id": "ffXSX4EnzAEE",
        "colab": {
          "base_uri": "https://localhost:8080/"
        },
        "outputId": "8d718e27-4b27-4400-dd7b-adedd7246f66"
      },
      "execution_count": null,
      "outputs": [
        {
          "output_type": "stream",
          "name": "stdout",
          "text": [
            "validation accuracy: 0.5479999780654907\n",
            "test accuracy: 0.578000009059906\n"
          ]
        }
      ]
    },
    {
      "cell_type": "code",
      "source": [
        "\"\"\"\n",
        "Q5e: Repeat parts c and d three times. You should get different results each run. \n",
        "There are two main reasons for this. What are they?\n",
        "\n",
        "YOUR CODE AND ANSWER BELOW, IN THIS CELL\n",
        "\"\"\"\n",
        "print(\"second run--\")\n",
        "model2 = train_linear_model(200, 0.3, False)\n",
        "get_accuracy(model2, val_loader, \"validation\")\n",
        "get_accuracy(model2, test_loader, \"test\")\n",
        "print(\"\\n\\nthird run--\")\n",
        "model3 = train_linear_model(200, 0.3, False)\n",
        "get_accuracy(model3, val_loader, \"validation\")\n",
        "get_accuracy(model3, test_loader, \"test\")\n",
        "print(\"\\n\\nfourth run--\")\n",
        "model4 = train_linear_model(200, 0.3, False)\n",
        "get_accuracy(model4, val_loader, \"validation\")\n",
        "get_accuracy(model4, test_loader, \"test\")"
      ],
      "metadata": {
        "id": "7VLYU9U6zEhk",
        "colab": {
          "base_uri": "https://localhost:8080/"
        },
        "outputId": "3517f208-fde1-43cf-e9a3-94a16bce1af7"
      },
      "execution_count": null,
      "outputs": [
        {
          "output_type": "stream",
          "name": "stdout",
          "text": [
            "second run--\n",
            "Task Progress: 100%|██████████| 200/200 [01:28<00:00,  2.26it/s]\n",
            "\n",
            "\n",
            "model trained successfully\n",
            "validation accuracy: 0.46299999952316284\n",
            "test accuracy: 0.49799999594688416\n",
            "\n",
            "\n",
            "third run--\n",
            "Task Progress: 100%|██████████| 200/200 [01:28<00:00,  2.27it/s]\n",
            "\n",
            "\n",
            "model trained successfully\n",
            "validation accuracy: 0.6129999756813049\n",
            "test accuracy: 0.6480000019073486\n",
            "\n",
            "\n",
            "fourth run--\n",
            "Task Progress: 100%|██████████| 200/200 [01:29<00:00,  2.24it/s]\n",
            "\n",
            "\n",
            "model trained successfully\n",
            "validation accuracy: 0.460999995470047\n",
            "test accuracy: 0.4790000021457672\n"
          ]
        }
      ]
    },
    {
      "cell_type": "markdown",
      "source": [
        "Mainly because we shuffle the train_loader, so that each time the training dataset provided to the model is in different order."
      ],
      "metadata": {
        "id": "EUFcGpIaUW08"
      }
    }
  ]
}